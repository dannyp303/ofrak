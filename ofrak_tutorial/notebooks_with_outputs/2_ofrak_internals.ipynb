{
 "cells": [
  {
   "cell_type": "markdown",
   "id": "d7905674",
   "metadata": {},
   "source": [
    "## Lesson 2: A closer look into OFRAK unpacking and the resource tree"
   ]
  },
  {
   "cell_type": "markdown",
   "id": "5c98bff3",
   "metadata": {},
   "source": [
    "**Objectives**: unpack a resource; learn about OFRAK components; learn about auto-analysis, tags, and the resource tree; filter the resource tree"
   ]
  },
  {
   "cell_type": "markdown",
   "id": "8267f57c",
   "metadata": {},
   "source": [
    "Let's dive a bit deeper into the binary."
   ]
  },
  {
   "cell_type": "code",
   "execution_count": 1,
   "id": "4f0b5a52",
   "metadata": {},
   "outputs": [],
   "source": [
    "from ofrak import OFRAK\n",
    "from ofrak_tutorial.helper_functions import create_hello_world_binary\n",
    "\n",
    "create_hello_world_binary()\n",
    "\n",
    "ofrak = OFRAK()\n",
    "basic_context = await ofrak.create_ofrak_context()\n",
    "root_resource = await basic_context.create_root_resource_from_file(\"hello_world\")"
   ]
  },
  {
   "cell_type": "markdown",
   "id": "57e0b95b",
   "metadata": {},
   "source": [
    "To get more information about this binary, we want to identify what type of file it is, analyze it for attributes, and unpack it into child resources. We can do this all at once with one function call in OFRAK."
   ]
  },
  {
   "cell_type": "code",
   "execution_count": 2,
   "id": "1c3e9a0c",
   "metadata": {},
   "outputs": [],
   "source": [
    "unpack_result = await root_resource.unpack_recursively()"
   ]
  },
  {
   "cell_type": "markdown",
   "id": "1fce1bd3",
   "metadata": {},
   "source": [
    "The result of calling `unpack_recursively()` is a `ComponentRunResult` object. The details of this object are not important, but it contains two significant pieces of information:"
   ]
  },
  {
   "cell_type": "markdown",
   "id": "c229da79",
   "metadata": {},
   "source": [
    "- A number of resources were created and modified:"
   ]
  },
  {
   "cell_type": "code",
   "execution_count": 3,
   "id": "3e3fcd40",
   "metadata": {},
   "outputs": [
    {
     "name": "stdout",
     "output_type": "stream",
     "text": [
      "170 resources created\n",
      "171 resources modified\n"
     ]
    }
   ],
   "source": [
    "print(f\"{len(unpack_result.resources_created)} resources created\")\n",
    "print(f\"{len(unpack_result.resources_modified)} resources modified\")"
   ]
  },
  {
   "cell_type": "markdown",
   "id": "1557d982",
   "metadata": {},
   "source": [
    "- Several **components** were run on our resource, including `MagicMimeIdentifier` and `ElfUnpacker`:"
   ]
  },
  {
   "cell_type": "code",
   "execution_count": 4,
   "id": "16b6642d",
   "metadata": {},
   "outputs": [
    {
     "name": "stdout",
     "output_type": "stream",
     "text": [
      "components run: [b'ApkIdentifier', b'DeviceTreeBlobIdentifier', b'ElfDynamicSectionUnpacker', b'ElfPointerArraySectionUnpacker', b'ElfRelaUnpacker', b'ElfSymbolUnpacker', b'ElfUnpacker', b'MagicDescriptionIdentifier', b'MagicMimeIdentifier', b'OpenWrtIdentifier', b'UbiIdentifier', b'UbifsIdentifier', b'Uf2FileIdentifier']\n"
     ]
    }
   ],
   "source": [
    "print(f\"components run: {sorted(unpack_result.components_run)}\")"
   ]
  },
  {
   "cell_type": "markdown",
   "id": "507b1856",
   "metadata": {},
   "source": [
    "Components in OFRAK are the objects that perform actions on resources. Components can be: **unpackers**, **packers**, **modifiers**, **identifiers**, or **analyzers**.\n",
    "\n",
    "Here's a typical OFRAK workflow in terms of these components:\n",
    "\n",
    "- create an OFRAK resource from something, typically a file on disk\n",
    "  + **unpack** the resource (this step uses **identifiers**)\n",
    "    - **modify** the resource (possibly using **analyzers**)\n",
    "  + re-**pack** the resource\n",
    "- export the modified and repacked resource, typically to a file on disk\n",
    "\n",
    "(Note: [Lesson 1](1_simple_string_modification.ipynb) presented a simpler workflow: as we only needed to access and modify the binary data of the file, unpacking and repacking weren't necessary, so we only created the resource from a file, modified its binary data, and flushed the result to disk.)\n",
    "\n",
    "Back to what happened when unpacking our hello world binary. Here, the `MagicMimeIdentifier` used `libmagic` on the binary to try and determine what type of file it is – in this case, it's an ELF executable. Based on this, OFRAK knows it needs to run the `ElfUnpacker`, which unpacked the binary into sections based on the known ELF file structure.\n",
    "\n",
    "Components can be manually selected and run on resources, or they can be run automatically, as we did here.\n",
    "\n",
    "Since we only had one resource before, but several were modified, it seems like the ELF unpacker has unpacked this file into some children! What does the resource tree look like now?"
   ]
  },
  {
   "cell_type": "code",
   "execution_count": 5,
   "id": "824d28d3",
   "metadata": {
    "tags": [
     "nbval-ignore-output"
    ]
   },
   "outputs": [
    {
     "name": "stdout",
     "output_type": "stream",
     "text": [
      "┌7ec3ae1b09aa4a7dbc0fd3125646bbdb: [caption=(File: hello_world, Elf), attributes=(AttributesType[FilesystemEntry], Magic), global_offset=(0x0-0x4020), parent_offset=(0x0-0x0), data_hash=f5cd0893]\n",
      "├────1555fee0a9054dbbaacdf8b2543e937e: [caption=(ElfBasicHeader), attributes=(Data, AttributesType[ElfBasicHeader]), global_offset=(0x0-0x10), parent_offset=(0x0-0x10), data_hex=7f454c46020101000000000000000000]\n",
      "├────7920a68209a34f76bfa5a1d1e0b58706: [caption=(ElfHeader), attributes=(Data, AttributesType[ElfHeader]), global_offset=(0x10-0x40), parent_offset=(0x10-0x40), data_hex=02003e000100000040104000000000004000000000000000e03800000000000000000000400038000b0040001d001c00]\n",
      "├────889c9ce9a69a4b118fdc82d87b0e051e: [caption=(ElfSectionHeader), attributes=(Data, AttributesType[ElfSectionStructure], AttributesType[ElfSectionHeader]), global_offset=(0x38e0-0x3920), parent_offset=(0x38e0-0x3920), data_hex=00000000000000000000000000000000000000000000000000000000000000000000000000000000000000000000000000000000000000000000000000000000]\n",
      "├────227806fb68884cc29f562e583e3844c2: [caption=(ElfSection), attributes=(AttributesType[ElfSectionStructure])]\n",
      "├────4aab9d471bbe4ece8023d34d1b3349a6: [caption=(ElfSectionHeader), attributes=(Data, AttributesType[ElfSectionStructure], AttributesType[ElfSectionHeader]), global_offset=(0x3920-0x3960), parent_offset=(0x3920-0x3960), data_hex=1b000000010000000200000000000000a802400000000000a8020000000000001c00000000000000000000000000000001000000000000000000000000000000]\n",
      "├────5525a41d8d96415fa5aef778f6b7d7fc: [caption=(ElfSection), attributes=(Data, AttributesType[ElfSectionStructure]), global_offset=(0x2a8-0x2c4), parent_offset=(0x2a8-0x2c4), data_hex=2f6c696236342f6c642d6c696e75782d7838362d36342e736f2e3200]\n",
      "├────764757192d374f909f4f9bb5e9d43c71: [caption=(ElfSectionHeader), attributes=(Data, AttributesType[ElfSectionStructure], AttributesType[ElfSectionHeader]), global_offset=(0x3960-0x39a0), parent_offset=(0x3960-0x39a0), data_hex=23000000070000000200000000000000c402400000000000c4020000000000002400000000000000000000000000000004000000000000000000000000000000]\n",
      "├────77cff397e5804c3d94c00093c030f7c4: [caption=(ElfSection), attributes=(Data, AttributesType[ElfSectionStructure]), global_offset=(0x2c4-0x2e8), parent_offset=(0x2c4-0x2e8), data_hex=040000001400000003000000474e550017fb4e8bc7504a89fa3603690cb745adfd747237]\n",
      "├────349c4e6f37e841cda4f83c0c68d18e6c: [caption=(ElfSectionHeader), attributes=(Data, AttributesType[ElfSectionStructure], AttributesType[ElfSectionHeader]), global_offset=(0x39a0-0x39e0), parent_offset=(0x39a0-0x39e0), data_hex=36000000070000000200000000000000e802400000000000e8020000000000002000000000000000000000000000000004000000000000000000000000000000]\n",
      "├────93a034e8d1b9457d930e889a4aad1b55: [caption=(ElfSection), attributes=(Data, AttributesType[ElfSectionStructure]), global_offset=(0x2e8-0x308), parent_offset=(0x2e8-0x308), data_hex=040000001000000001000000474e550000000000030000000200000000000000]\n",
      "├────91b63e364b2c4926af8519f09fff05f4: [caption=(ElfSectionHeader), attributes=(Data, AttributesType[ElfSectionStructure], AttributesType[ElfSectionHeader]), global_offset=(0x39e0-0x3a20), parent_offset=(0x39e0-0x3a20), data_hex=44000000f6ffff6f0200000000000000080340000000000008030000000000001c00000000000000050000000000000008000000000000000000000000000000]\n",
      "├────b9efefb1a9b74ca5afe476c5d30ba2bb: [caption=(ElfSection), attributes=(Data, AttributesType[ElfSectionStructure]), global_offset=(0x308-0x324), parent_offset=(0x308-0x324), data_hex=01000000010000000100000000000000000000000000000000000000]\n",
      "├────989b3273a42741328cf8c6f86c0a7296: [caption=(ElfSectionHeader), attributes=(Data, AttributesType[ElfSectionStructure], AttributesType[ElfSectionHeader]), global_offset=(0x3a20-0x3a60), parent_offset=(0x3a20-0x3a60), data_hex=4e0000000b0000000200000000000000280340000000000028030000000000006000000000000000060000000100000008000000000000001800000000000000]\n",
      "├───┬bc46ab37c0764cdf8bd8dbfde40537c1: [caption=(ElfDynSymbolSection: .dynsym), attributes=(Data, AttributesType[ElfSectionStructure], AttributesType[Addressable], AttributesType[MemoryRegion], AttributesType[NamedProgramSection]), global_offset=(0x328-0x388), parent_offset=(0x328-0x388), data_hex=0000000000000000000000000000000000000000000000000100000012000000000000000000000000000000000000000600000012000000000000000000000000000000000000002e0000002000000000000000000000000000000000000000]\n",
      "│   ├────008aca663fac46c29b5c462476871b5e: [caption=(ElfSymbol), attributes=(Data, AttributesType[ElfSymbolStructure]), global_offset=(0x328-0x340), parent_offset=(0x0-0x18), data_hex=000000000000000000000000000000000000000000000000]\n",
      "│   ├────50d89a7f07b8402c870d4fe10d51e8c4: [caption=(ElfSymbol), attributes=(Data, AttributesType[ElfSymbolStructure]), global_offset=(0x340-0x358), parent_offset=(0x18-0x30), data_hex=010000001200000000000000000000000000000000000000]\n",
      "│   ├────7eec0db4d92e423abfb2de4647316f25: [caption=(ElfSymbol), attributes=(Data, AttributesType[ElfSymbolStructure]), global_offset=(0x358-0x370), parent_offset=(0x30-0x48), data_hex=060000001200000000000000000000000000000000000000]\n",
      "│   └────d51544794fd94d1f8075a6836f73047d: [caption=(ElfSymbol), attributes=(Data, AttributesType[ElfSymbolStructure]), global_offset=(0x370-0x388), parent_offset=(0x48-0x60), data_hex=2e0000002000000000000000000000000000000000000000]\n",
      "├────b3e52741dd2347cfa95607048884ce85: [caption=(ElfSectionHeader), attributes=(Data, AttributesType[ElfSectionStructure], AttributesType[ElfSectionHeader]), global_offset=(0x3a60-0x3aa0), parent_offset=(0x3a60-0x3aa0), data_hex=56000000030000000200000000000000880340000000000088030000000000003d00000000000000000000000000000001000000000000000000000000000000]\n",
      "├────fff8b3acf48d410bbdc03120092da112: [caption=(ElfSection, ElfStringSection), attributes=(Data, AttributesType[ElfSectionStructure]), global_offset=(0x388-0x3c5), parent_offset=(0x388-0x3c5), data_hex=0070757473005f5f6c6962635f73746172745f6d61696e006c6962632e736f2e3600474c4942435f322e322e35005f5f676d6f6e5f73746172745f5f00]\n",
      "├────5656e4d3e4af45afb271e2eb01bf7862: [caption=(ElfSectionHeader), attributes=(Data, AttributesType[ElfSectionStructure], AttributesType[ElfSectionHeader]), global_offset=(0x3aa0-0x3ae0), parent_offset=(0x3aa0-0x3ae0), data_hex=5e000000ffffff6f0200000000000000c603400000000000c6030000000000000800000000000000050000000000000002000000000000000200000000000000]\n",
      "├────893b708882404d6a99f86825180d8e2a: [caption=(ElfSection), attributes=(Data, AttributesType[ElfSectionStructure]), global_offset=(0x3c6-0x3ce), parent_offset=(0x3c6-0x3ce), data_hex=0000020002000000]\n",
      "├────784dbbc2c0c6464588db9f537954c000: [caption=(ElfSectionHeader), attributes=(Data, AttributesType[ElfSectionStructure], AttributesType[ElfSectionHeader]), global_offset=(0x3ae0-0x3b20), parent_offset=(0x3ae0-0x3b20), data_hex=6b000000feffff6f0200000000000000d003400000000000d0030000000000002000000000000000060000000100000008000000000000000000000000000000]\n",
      "├────4c401d7d42394d8bb1f68b680768f241: [caption=(ElfSection), attributes=(Data, AttributesType[ElfSectionStructure]), global_offset=(0x3d0-0x3f0), parent_offset=(0x3d0-0x3f0), data_hex=01000100180000001000000000000000751a6909000002002200000000000000]\n",
      "├────ae7c270dba3a4a9597b3ae8d84b7f424: [caption=(ElfSectionHeader), attributes=(Data, AttributesType[ElfSectionStructure], AttributesType[ElfSectionHeader]), global_offset=(0x3b20-0x3b60), parent_offset=(0x3b20-0x3b60), data_hex=7a000000040000000200000000000000f003400000000000f0030000000000003000000000000000050000000000000008000000000000001800000000000000]\n",
      "├───┬6b64fccb4aa74bd99c5c573666e67059: [caption=(ElfRelaSection: .rela.dyn), attributes=(Data, AttributesType[ElfSectionStructure], AttributesType[Addressable], AttributesType[MemoryRegion], AttributesType[NamedProgramSection]), global_offset=(0x3f0-0x420), parent_offset=(0x3f0-0x420), data_hex=f03f40000000000006000000020000000000000000000000f83f40000000000006000000030000000000000000000000]\n",
      "│   ├────7a55cc8e3f054d8aa597d4de4a502922: [caption=(ElfRelaEntry), attributes=(Data), global_offset=(0x3f0-0x408), parent_offset=(0x0-0x18), data_hex=f03f40000000000006000000020000000000000000000000]\n",
      "│   └────d6a8cb8a7d084a088ebe9b6c6c5f260e: [caption=(ElfRelaEntry), attributes=(Data), global_offset=(0x408-0x420), parent_offset=(0x18-0x30), data_hex=f83f40000000000006000000030000000000000000000000]\n",
      "├────89e54a843ab44f1ca3b96cebb7a48cb4: [caption=(ElfSectionHeader), attributes=(Data, AttributesType[ElfSectionStructure], AttributesType[ElfSectionHeader]), global_offset=(0x3b60-0x3ba0), parent_offset=(0x3b60-0x3ba0), data_hex=84000000040000004200000000000000200440000000000020040000000000001800000000000000050000001600000008000000000000001800000000000000]\n",
      "├───┬197fade116be4971aa2d3ccf9fda5e9f: [caption=(ElfRelaSection: .rela.plt), attributes=(Data, AttributesType[ElfSectionStructure], AttributesType[Addressable], AttributesType[MemoryRegion], AttributesType[NamedProgramSection]), global_offset=(0x420-0x438), parent_offset=(0x420-0x438), data_hex=184040000000000007000000010000000000000000000000]\n",
      "│   └────1d87a47fda1542c6af0bb0560cb069ea: [caption=(ElfRelaEntry), attributes=(Data), global_offset=(0x420-0x438), parent_offset=(0x0-0x18), data_hex=184040000000000007000000010000000000000000000000]\n",
      "├────1c68566fd848425fa831210133f3a0ae: [caption=(ElfSectionHeader), attributes=(Data, AttributesType[ElfSectionStructure], AttributesType[ElfSectionHeader]), global_offset=(0x3ba0-0x3be0), parent_offset=(0x3ba0-0x3be0), data_hex=8e000000010000000600000000000000001040000000000000100000000000001700000000000000000000000000000004000000000000000000000000000000]\n",
      "├────64983f9ba7204ed494b99944ab3d0ff3: [caption=(ElfSection, CodeRegion), attributes=(Data, AttributesType[ElfSectionStructure]), global_offset=(0x1000-0x1017), parent_offset=(0x1000-0x1017), data_hex=4883ec08488b05ed2f00004885c07402ffd04883c408c3]\n",
      "├────333e6e6581c94728978450427ec9b63a: [caption=(ElfSectionHeader), attributes=(Data, AttributesType[ElfSectionStructure], AttributesType[ElfSectionHeader]), global_offset=(0x3be0-0x3c20), parent_offset=(0x3be0-0x3c20), data_hex=89000000010000000600000000000000201040000000000020100000000000002000000000000000000000000000000010000000000000001000000000000000]\n",
      "├────72ed80a0f46c4b5ab2cddb3c5eea86b0: [caption=(ElfSection, CodeRegion), attributes=(Data, AttributesType[ElfSectionStructure]), global_offset=(0x1020-0x1040), parent_offset=(0x1020-0x1040), data_hex=ff35e22f0000ff25e42f00000f1f4000ff25e22f00006800000000e9e0ffffff]\n",
      "├────de7bd641c27c4bdd84df7f31c2ec8b2d: [caption=(ElfSectionHeader), attributes=(Data, AttributesType[ElfSectionStructure], AttributesType[ElfSectionHeader]), global_offset=(0x3c20-0x3c60), parent_offset=(0x3c20-0x3c60), data_hex=94000000010000000600000000000000401040000000000040100000000000006101000000000000000000000000000010000000000000000000000000000000]\n",
      "├────59f70c17c0a742ec90206013dea49773: [caption=(ElfSection, CodeRegion), attributes=(Data, AttributesType[ElfSectionStructure]), global_offset=(0x1040-0x11a1), parent_offset=(0x1040-0x11a1), data_hash=1eeedffe]\n",
      "├────12aaf5e20fd1407b93323a74c8329241: [caption=(ElfSectionHeader), attributes=(Data, AttributesType[ElfSectionStructure], AttributesType[ElfSectionHeader]), global_offset=(0x3c60-0x3ca0), parent_offset=(0x3c60-0x3ca0), data_hex=9a000000010000000600000000000000a411400000000000a4110000000000000900000000000000000000000000000004000000000000000000000000000000]\n",
      "├────c0753d43a8e84b8d85dc13fd217f7a88: [caption=(ElfSection, CodeRegion), attributes=(Data, AttributesType[ElfSectionStructure]), global_offset=(0x11a4-0x11ad), parent_offset=(0x11a4-0x11ad), data_hex=4883ec084883c408c3]\n",
      "├────dc5c5ebae79d498da647c1ba6c83ea21: [caption=(ElfSectionHeader), attributes=(Data, AttributesType[ElfSectionStructure], AttributesType[ElfSectionHeader]), global_offset=(0x3ca0-0x3ce0), parent_offset=(0x3ca0-0x3ce0), data_hex=a0000000010000000200000000000000002040000000000000200000000000001200000000000000000000000000000004000000000000000000000000000000]\n",
      "├────82d0c5584c7a446bbbca77ef89f916da: [caption=(ElfSection), attributes=(Data, AttributesType[ElfSectionStructure]), global_offset=(0x2000-0x2012), parent_offset=(0x2000-0x2012), data_hex=0100020048656c6c6f2c20576f726c642100]\n",
      "├────8295be99c79a4e3b92b07ebf962d7e05: [caption=(ElfSectionHeader), attributes=(Data, AttributesType[ElfSectionStructure], AttributesType[ElfSectionHeader]), global_offset=(0x3ce0-0x3d20), parent_offset=(0x3ce0-0x3d20), data_hex=a8000000010000000200000000000000142040000000000014200000000000003c00000000000000000000000000000004000000000000000000000000000000]\n",
      "├────a40437099c894f5598cb03747ca82769: [caption=(ElfSection), attributes=(Data, AttributesType[ElfSectionStructure]), global_offset=(0x2014-0x2050), parent_offset=(0x2014-0x2050), data_hex=011b033b38000000060000000cf0ffff940000002cf0ffff540000005cf0ffff800000000ef1ffffbc0000002cf1ffffdc0000008cf1ffff24010000]\n",
      "├────dc9fa3e9eeb248a3ba42742c61eb0e24: [caption=(ElfSectionHeader), attributes=(Data, AttributesType[ElfSectionStructure], AttributesType[ElfSectionHeader]), global_offset=(0x3d20-0x3d60), parent_offset=(0x3d20-0x3d60), data_hex=b6000000010000000200000000000000502040000000000050200000000000000001000000000000000000000000000008000000000000000000000000000000]\n",
      "├────044434721476420e85bdf7470d9cead5: [caption=(ElfSection), attributes=(Data, AttributesType[ElfSectionStructure]), global_offset=(0x2050-0x2150), parent_offset=(0x2050-0x2150), data_hash=ef716b33]\n",
      "├────9f6142f8b7ca4a7ea1bfa667c2a60606: [caption=(ElfSectionHeader), attributes=(Data, AttributesType[ElfSectionStructure], AttributesType[ElfSectionHeader]), global_offset=(0x3d60-0x3da0), parent_offset=(0x3d60-0x3da0), data_hex=c00000000e0000000300000000000000103e400000000000102e0000000000000800000000000000000000000000000008000000000000000800000000000000]\n",
      "├───┬81d2e7cf2c5c44c89bd793b16ce9aa33: [caption=(ElfInitArraySection), attributes=(Data, AttributesType[ElfSectionStructure]), global_offset=(0x2e10-0x2e18), parent_offset=(0x2e10-0x2e18), data_hex=2011400000000000]\n",
      "│   └────3aed4544bef44063af6a4df79d8289e2: [caption=(ElfVirtualAddress), attributes=(Data), global_offset=(0x2e10-0x2e18), parent_offset=(0x0-0x8), data_hex=2011400000000000]\n",
      "├────35839cfc301e43bfb19d68d7fdfeeb25: [caption=(ElfSectionHeader), attributes=(Data, AttributesType[ElfSectionStructure], AttributesType[ElfSectionHeader]), global_offset=(0x3da0-0x3de0), parent_offset=(0x3da0-0x3de0), data_hex=cc0000000f0000000300000000000000183e400000000000182e0000000000000800000000000000000000000000000008000000000000000800000000000000]\n",
      "├───┬39d2332886044a27ba6c822d219f636e: [caption=(ElfFiniArraySection), attributes=(Data, AttributesType[ElfSectionStructure]), global_offset=(0x2e18-0x2e20), parent_offset=(0x2e18-0x2e20), data_hex=f010400000000000]\n",
      "│   └────e6342b244fd94acb96a28b8fff9fc254: [caption=(ElfVirtualAddress), attributes=(Data), global_offset=(0x2e18-0x2e20), parent_offset=(0x0-0x8), data_hex=f010400000000000]\n",
      "├────5a381742faa64e479aa06f42876383f5: [caption=(ElfSectionHeader), attributes=(Data, AttributesType[ElfSectionStructure], AttributesType[ElfSectionHeader]), global_offset=(0x3de0-0x3e20), parent_offset=(0x3de0-0x3e20), data_hex=d8000000060000000300000000000000203e400000000000202e000000000000d001000000000000060000000000000008000000000000001000000000000000]\n",
      "├───┬2c68fc7e09a9465fae9b257c6f5baddb: [caption=(ElfDynamicSection: .dynamic), attributes=(Data, AttributesType[ElfSectionStructure], AttributesType[Addressable], AttributesType[MemoryRegion], AttributesType[NamedProgramSection]), global_offset=(0x2e20-0x2ff0), parent_offset=(0x2e20-0x2ff0), data_hash=4438de54]\n",
      "│   ├────b6eb90d01b204dc987fd81b160005b8c: [caption=(ElfDynamicEntry), attributes=(Data), global_offset=(0x2e20-0x2e30), parent_offset=(0x0-0x10), data_hex=01000000000000001800000000000000]\n",
      "│   ├────f705825a5cba43388934ad4a4d0bdf9c: [caption=(ElfDynamicEntry), attributes=(Data), global_offset=(0x2e30-0x2e40), parent_offset=(0x10-0x20), data_hex=0c000000000000000010400000000000]\n",
      "│   ├────99d4463b4d794414addaccfa0fd6d28d: [caption=(ElfDynamicEntry), attributes=(Data), global_offset=(0x2e40-0x2e50), parent_offset=(0x20-0x30), data_hex=0d00000000000000a411400000000000]\n",
      "│   ├────7ed8e4e561d44564946682ab125be13d: [caption=(ElfDynamicEntry), attributes=(Data), global_offset=(0x2e50-0x2e60), parent_offset=(0x30-0x40), data_hex=1900000000000000103e400000000000]\n",
      "│   ├────44461189539644e8b5b6f32e1a11d5cc: [caption=(ElfDynamicEntry), attributes=(Data), global_offset=(0x2e60-0x2e70), parent_offset=(0x40-0x50), data_hex=1b000000000000000800000000000000]\n",
      "│   ├────5ae22b77dc984cf6ae0d214e72495ee5: [caption=(ElfDynamicEntry), attributes=(Data), global_offset=(0x2e70-0x2e80), parent_offset=(0x50-0x60), data_hex=1a00000000000000183e400000000000]\n",
      "│   ├────0eb9eb88ebfd4a6598d5cf71d84b89b7: [caption=(ElfDynamicEntry), attributes=(Data), global_offset=(0x2e80-0x2e90), parent_offset=(0x60-0x70), data_hex=1c000000000000000800000000000000]\n",
      "│   ├────4f20a4cac7f4419eb9689f8790e281c1: [caption=(ElfDynamicEntry), attributes=(Data), global_offset=(0x2e90-0x2ea0), parent_offset=(0x70-0x80), data_hex=f5feff6f000000000803400000000000]\n",
      "│   ├────130c4f4e7b1447299b2cfb93f74ef8f0: [caption=(ElfDynamicEntry), attributes=(Data), global_offset=(0x2ea0-0x2eb0), parent_offset=(0x80-0x90), data_hex=05000000000000008803400000000000]\n",
      "│   ├────70c4b90b30dc4703b772b56ac8b9623f: [caption=(ElfDynamicEntry), attributes=(Data), global_offset=(0x2eb0-0x2ec0), parent_offset=(0x90-0xa0), data_hex=06000000000000002803400000000000]\n",
      "│   ├────62b1aae2cb854c9d8dd67285f5ed420c: [caption=(ElfDynamicEntry), attributes=(Data), global_offset=(0x2ec0-0x2ed0), parent_offset=(0xa0-0xb0), data_hex=0a000000000000003d00000000000000]\n",
      "│   ├────6ca482b0921c4438b213c8d0e29fec35: [caption=(ElfDynamicEntry), attributes=(Data), global_offset=(0x2ed0-0x2ee0), parent_offset=(0xb0-0xc0), data_hex=0b000000000000001800000000000000]\n",
      "│   ├────3b70d9de54cf47beb3e411bd443108e0: [caption=(ElfDynamicEntry), attributes=(Data), global_offset=(0x2ee0-0x2ef0), parent_offset=(0xc0-0xd0), data_hex=15000000000000000000000000000000]\n",
      "│   ├────b00fa84d21c4448aa7b979c68176f5a5: [caption=(ElfDynamicEntry), attributes=(Data), global_offset=(0x2ef0-0x2f00), parent_offset=(0xd0-0xe0), data_hex=03000000000000000040400000000000]\n",
      "│   ├────9b6cea1ede9442329ede9c9a6762dc42: [caption=(ElfDynamicEntry), attributes=(Data), global_offset=(0x2f00-0x2f10), parent_offset=(0xe0-0xf0), data_hex=02000000000000001800000000000000]\n",
      "│   ├────909779148bd4427a93151b6f3489517a: [caption=(ElfDynamicEntry), attributes=(Data), global_offset=(0x2f10-0x2f20), parent_offset=(0xf0-0x100), data_hex=14000000000000000700000000000000]\n",
      "│   ├────58ff0e4abd1e44708203908d40717c7b: [caption=(ElfDynamicEntry), attributes=(Data), global_offset=(0x2f20-0x2f30), parent_offset=(0x100-0x110), data_hex=17000000000000002004400000000000]\n",
      "│   ├────8954a9c269d449c2bb71a4c50c0ef2c0: [caption=(ElfDynamicEntry), attributes=(Data), global_offset=(0x2f30-0x2f40), parent_offset=(0x110-0x120), data_hex=0700000000000000f003400000000000]\n",
      "│   ├────353446007ece42cd9c3884f7206336aa: [caption=(ElfDynamicEntry), attributes=(Data), global_offset=(0x2f40-0x2f50), parent_offset=(0x120-0x130), data_hex=08000000000000003000000000000000]\n",
      "│   ├────bc23b1bb841b430e9d3dfb412f333de0: [caption=(ElfDynamicEntry), attributes=(Data), global_offset=(0x2f50-0x2f60), parent_offset=(0x130-0x140), data_hex=09000000000000001800000000000000]\n",
      "│   ├────46cf5f5e656242a8a02fa58f20bd45f1: [caption=(ElfDynamicEntry), attributes=(Data), global_offset=(0x2f60-0x2f70), parent_offset=(0x140-0x150), data_hex=feffff6f00000000d003400000000000]\n",
      "│   ├────fb0c015c2ebd458b8e38a6fa25baf728: [caption=(ElfDynamicEntry), attributes=(Data), global_offset=(0x2f70-0x2f80), parent_offset=(0x150-0x160), data_hex=ffffff6f000000000100000000000000]\n",
      "│   ├────c00c0a9b085e4d179110559d4679a773: [caption=(ElfDynamicEntry), attributes=(Data), global_offset=(0x2f80-0x2f90), parent_offset=(0x160-0x170), data_hex=f0ffff6f00000000c603400000000000]\n",
      "│   ├────73f324b882ac499c97bbfd341f335afc: [caption=(ElfDynamicEntry), attributes=(Data), global_offset=(0x2f90-0x2fa0), parent_offset=(0x170-0x180), data_hex=00000000000000000000000000000000]\n",
      "│   ├────203419b4dd4a48678a7e6f1ce991119a: [caption=(ElfDynamicEntry), attributes=(Data), global_offset=(0x2fa0-0x2fb0), parent_offset=(0x180-0x190), data_hex=00000000000000000000000000000000]\n",
      "│   ├────1931d0cf7eb74618aa39d15a4487a4d5: [caption=(ElfDynamicEntry), attributes=(Data), global_offset=(0x2fb0-0x2fc0), parent_offset=(0x190-0x1a0), data_hex=00000000000000000000000000000000]\n",
      "│   ├────e3c4d316a6c8421096900cc5b511a231: [caption=(ElfDynamicEntry), attributes=(Data), global_offset=(0x2fc0-0x2fd0), parent_offset=(0x1a0-0x1b0), data_hex=00000000000000000000000000000000]\n",
      "│   ├────4c5e21867ebf4e218409f92bfd19beb6: [caption=(ElfDynamicEntry), attributes=(Data), global_offset=(0x2fd0-0x2fe0), parent_offset=(0x1b0-0x1c0), data_hex=00000000000000000000000000000000]\n",
      "│   └────921d775d20c04511b918f82b54a01ba3: [caption=(ElfDynamicEntry), attributes=(Data), global_offset=(0x2fe0-0x2ff0), parent_offset=(0x1c0-0x1d0), data_hex=00000000000000000000000000000000]\n",
      "├────3be0bda2f05f4b0a9b0e335a68c39649: [caption=(ElfSectionHeader), attributes=(Data, AttributesType[ElfSectionStructure], AttributesType[ElfSectionHeader]), global_offset=(0x3e20-0x3e60), parent_offset=(0x3e20-0x3e60), data_hex=e1000000010000000300000000000000f03f400000000000f02f0000000000001000000000000000000000000000000008000000000000000800000000000000]\n",
      "├────568c1adc329847119834457d4fdab065: [caption=(ElfSection), attributes=(Data, AttributesType[ElfSectionStructure]), global_offset=(0x2ff0-0x3000), parent_offset=(0x2ff0-0x3000), data_hex=00000000000000000000000000000000]\n",
      "├────002309662ba04030a2065fc449807d9b: [caption=(ElfSectionHeader), attributes=(Data, AttributesType[ElfSectionStructure], AttributesType[ElfSectionHeader]), global_offset=(0x3e60-0x3ea0), parent_offset=(0x3e60-0x3ea0), data_hex=e6000000010000000300000000000000004040000000000000300000000000002000000000000000000000000000000008000000000000000800000000000000]\n",
      "├────7cdae41335344d71b9101d176455995e: [caption=(ElfSection), attributes=(Data, AttributesType[ElfSectionStructure]), global_offset=(0x3000-0x3020), parent_offset=(0x3000-0x3020), data_hex=203e400000000000000000000000000000000000000000003610400000000000]\n",
      "├────17ae988daefa4a319bcf73b2d6972851: [caption=(ElfSectionHeader), attributes=(Data, AttributesType[ElfSectionStructure], AttributesType[ElfSectionHeader]), global_offset=(0x3ea0-0x3ee0), parent_offset=(0x3ea0-0x3ee0), data_hex=ef000000010000000300000000000000204040000000000020300000000000001000000000000000000000000000000008000000000000000000000000000000]\n",
      "├────168f6a7572d04cc09a5a655215439b76: [caption=(ElfSection), attributes=(Data, AttributesType[ElfSectionStructure]), global_offset=(0x3020-0x3030), parent_offset=(0x3020-0x3030), data_hex=00000000000000000000000000000000]\n",
      "├────39a76ddf9af14535842581a1981317f3: [caption=(ElfSectionHeader), attributes=(Data, AttributesType[ElfSectionStructure], AttributesType[ElfSectionHeader]), global_offset=(0x3ee0-0x3f20), parent_offset=(0x3ee0-0x3f20), data_hex=f5000000080000000300000000000000304040000000000030300000000000000800000000000000000000000000000001000000000000000000000000000000]\n",
      "├────496b4d122a4b4839b031f33e32591231: [caption=(ElfSection), attributes=(AttributesType[ElfSectionStructure])]\n",
      "├────f436ed40956847cda90489eb9232f215: [caption=(ElfSectionHeader), attributes=(Data, AttributesType[ElfSectionStructure], AttributesType[ElfSectionHeader]), global_offset=(0x3f20-0x3f60), parent_offset=(0x3f20-0x3f60), data_hex=fa000000010000003000000000000000000000000000000030300000000000002700000000000000000000000000000001000000000000000100000000000000]\n",
      "├────aedff0584009432ea8fe7ed5ce71be20: [caption=(ElfSection), attributes=(Data, AttributesType[ElfSectionStructure]), global_offset=(0x3030-0x3057), parent_offset=(0x3030-0x3057), data_hex=4743433a202844656269616e2031302e322e312d36292031302e322e3120323032313031313000]\n",
      "├────936847ba855a4363ba0ed9442cf7d3b6: [caption=(ElfSectionHeader), attributes=(Data, AttributesType[ElfSectionStructure], AttributesType[ElfSectionHeader]), global_offset=(0x3f60-0x3fa0), parent_offset=(0x3f60-0x3fa0), data_hex=0100000002000000000000000000000000000000000000005830000000000000b8050000000000001b0000002b00000008000000000000001800000000000000]\n",
      "├───┬7f4df427959e4e899b9bbba56830b6cb: [caption=(ElfSymbolSection: .symtab), attributes=(Data, AttributesType[ElfSectionStructure], AttributesType[Addressable], AttributesType[MemoryRegion], AttributesType[NamedProgramSection]), global_offset=(0x3058-0x3610), parent_offset=(0x3058-0x3610), data_hash=f6bc0737]\n",
      "│   ├────d6fd3402287f4fc0924e09166817d462: [caption=(ElfSymbol), attributes=(Data, AttributesType[ElfSymbolStructure]), global_offset=(0x3058-0x3070), parent_offset=(0x0-0x18), data_hex=000000000000000000000000000000000000000000000000]\n",
      "│   ├────8acccc15acf44297891c05a3263f9abd: [caption=(ElfSymbol), attributes=(Data, AttributesType[ElfSymbolStructure]), global_offset=(0x3070-0x3088), parent_offset=(0x18-0x30), data_hex=0000000003000100a8024000000000000000000000000000]\n",
      "│   ├────d505c1b03f3840e18dfb2f97191ad4dc: [caption=(ElfSymbol), attributes=(Data, AttributesType[ElfSymbolStructure]), global_offset=(0x3088-0x30a0), parent_offset=(0x30-0x48), data_hex=0000000003000200c4024000000000000000000000000000]\n",
      "│   ├────076faae384194fa18daf13b26dd456e6: [caption=(ElfSymbol), attributes=(Data, AttributesType[ElfSymbolStructure]), global_offset=(0x30a0-0x30b8), parent_offset=(0x48-0x60), data_hex=0000000003000300e8024000000000000000000000000000]\n",
      "│   ├────710d8bf589d048cd873f1571e2676ff3: [caption=(ElfSymbol), attributes=(Data, AttributesType[ElfSymbolStructure]), global_offset=(0x30b8-0x30d0), parent_offset=(0x60-0x78), data_hex=000000000300040008034000000000000000000000000000]\n",
      "│   ├────723c1e879c804e76b8e116f1f75ada36: [caption=(ElfSymbol), attributes=(Data, AttributesType[ElfSymbolStructure]), global_offset=(0x30d0-0x30e8), parent_offset=(0x78-0x90), data_hex=000000000300050028034000000000000000000000000000]\n",
      "│   ├────ec6ae347714b4d39b0399bb95aeacf5f: [caption=(ElfSymbol), attributes=(Data, AttributesType[ElfSymbolStructure]), global_offset=(0x30e8-0x3100), parent_offset=(0x90-0xa8), data_hex=000000000300060088034000000000000000000000000000]\n",
      "│   ├────17c0bfe47fae415e9a658a18cb63bbe4: [caption=(ElfSymbol), attributes=(Data, AttributesType[ElfSymbolStructure]), global_offset=(0x3100-0x3118), parent_offset=(0xa8-0xc0), data_hex=0000000003000700c6034000000000000000000000000000]\n",
      "│   ├────5f07c8158b7a443ca6953eb89c49eaf0: [caption=(ElfSymbol), attributes=(Data, AttributesType[ElfSymbolStructure]), global_offset=(0x3118-0x3130), parent_offset=(0xc0-0xd8), data_hex=0000000003000800d0034000000000000000000000000000]\n",
      "│   ├────ec1ff8ae15fc45e48303b8bd2e3bf03b: [caption=(ElfSymbol), attributes=(Data, AttributesType[ElfSymbolStructure]), global_offset=(0x3130-0x3148), parent_offset=(0xd8-0xf0), data_hex=0000000003000900f0034000000000000000000000000000]\n",
      "│   ├────563a84cfa3b141f4a61fc735037074da: [caption=(ElfSymbol), attributes=(Data, AttributesType[ElfSymbolStructure]), global_offset=(0x3148-0x3160), parent_offset=(0xf0-0x108), data_hex=0000000003000a0020044000000000000000000000000000]\n",
      "│   ├────ab5954c90fe3479e9722f4c46c304168: [caption=(ElfSymbol), attributes=(Data, AttributesType[ElfSymbolStructure]), global_offset=(0x3160-0x3178), parent_offset=(0x108-0x120), data_hex=0000000003000b0000104000000000000000000000000000]\n",
      "│   ├────4cb70182d7684f099fafb1f5280fc594: [caption=(ElfSymbol), attributes=(Data, AttributesType[ElfSymbolStructure]), global_offset=(0x3178-0x3190), parent_offset=(0x120-0x138), data_hex=0000000003000c0020104000000000000000000000000000]\n",
      "│   ├────973236522d4347a1bc98ff268fd3a188: [caption=(ElfSymbol), attributes=(Data, AttributesType[ElfSymbolStructure]), global_offset=(0x3190-0x31a8), parent_offset=(0x138-0x150), data_hex=0000000003000d0040104000000000000000000000000000]\n",
      "│   ├────13e4a55999a44863973398d90847865d: [caption=(ElfSymbol), attributes=(Data, AttributesType[ElfSymbolStructure]), global_offset=(0x31a8-0x31c0), parent_offset=(0x150-0x168), data_hex=0000000003000e00a4114000000000000000000000000000]\n",
      "│   ├────bbd1f4e42bc84157ae2b319fd65e7bd5: [caption=(ElfSymbol), attributes=(Data, AttributesType[ElfSymbolStructure]), global_offset=(0x31c0-0x31d8), parent_offset=(0x168-0x180), data_hex=0000000003000f0000204000000000000000000000000000]\n",
      "│   ├────3944be07ff4b4be9b4b7756384de2fe3: [caption=(ElfSymbol), attributes=(Data, AttributesType[ElfSymbolStructure]), global_offset=(0x31d8-0x31f0), parent_offset=(0x180-0x198), data_hex=000000000300100014204000000000000000000000000000]\n",
      "│   ├────09c4a1d945a84eab8069c075fa974227: [caption=(ElfSymbol), attributes=(Data, AttributesType[ElfSymbolStructure]), global_offset=(0x31f0-0x3208), parent_offset=(0x198-0x1b0), data_hex=000000000300110050204000000000000000000000000000]\n",
      "│   ├────a7f5604a59144cf2ace51d1719af84e2: [caption=(ElfSymbol), attributes=(Data, AttributesType[ElfSymbolStructure]), global_offset=(0x3208-0x3220), parent_offset=(0x1b0-0x1c8), data_hex=0000000003001200103e4000000000000000000000000000]\n",
      "│   ├────16b5d8ed376f4b758e4fdd64a5193ffc: [caption=(ElfSymbol), attributes=(Data, AttributesType[ElfSymbolStructure]), global_offset=(0x3220-0x3238), parent_offset=(0x1c8-0x1e0), data_hex=0000000003001300183e4000000000000000000000000000]\n",
      "│   ├────c05804bde68d4dba8f2421ef6580198e: [caption=(ElfSymbol), attributes=(Data, AttributesType[ElfSymbolStructure]), global_offset=(0x3238-0x3250), parent_offset=(0x1e0-0x1f8), data_hex=0000000003001400203e4000000000000000000000000000]\n",
      "│   ├────f5d86700f16a423f8d92cf47ff443e78: [caption=(ElfSymbol), attributes=(Data, AttributesType[ElfSymbolStructure]), global_offset=(0x3250-0x3268), parent_offset=(0x1f8-0x210), data_hex=0000000003001500f03f4000000000000000000000000000]\n",
      "│   ├────9bf427fbf2524691a6ec046158a949e1: [caption=(ElfSymbol), attributes=(Data, AttributesType[ElfSymbolStructure]), global_offset=(0x3268-0x3280), parent_offset=(0x210-0x228), data_hex=000000000300160000404000000000000000000000000000]\n",
      "│   ├────b195d126b2a648278eebdc4f71f6e4dc: [caption=(ElfSymbol), attributes=(Data, AttributesType[ElfSymbolStructure]), global_offset=(0x3280-0x3298), parent_offset=(0x228-0x240), data_hex=000000000300170020404000000000000000000000000000]\n",
      "│   ├────23e2ca30cdc348538007a7db3e79ccd1: [caption=(ElfSymbol), attributes=(Data, AttributesType[ElfSymbolStructure]), global_offset=(0x3298-0x32b0), parent_offset=(0x240-0x258), data_hex=000000000300180030404000000000000000000000000000]\n",
      "│   ├────fffa25ec4fb74374a7e69b7ef361e032: [caption=(ElfSymbol), attributes=(Data, AttributesType[ElfSymbolStructure]), global_offset=(0x32b0-0x32c8), parent_offset=(0x258-0x270), data_hex=000000000300190000000000000000000000000000000000]\n",
      "│   ├────eaa17981b430447db640a47c707145c4: [caption=(ElfSymbol), attributes=(Data, AttributesType[ElfSymbolStructure]), global_offset=(0x32c8-0x32e0), parent_offset=(0x270-0x288), data_hex=010000000400f1ff00000000000000000000000000000000]\n",
      "│   ├────92a1313d1ed048f2851b2679e6815848: [caption=(ElfSymbol), attributes=(Data, AttributesType[ElfSymbolStructure]), global_offset=(0x32e0-0x32f8), parent_offset=(0x288-0x2a0), data_hex=0c00000002000d0080104000000000000000000000000000]\n",
      "│   ├────f089c856fa494d4eb898987f7e59867a: [caption=(ElfSymbol), attributes=(Data, AttributesType[ElfSymbolStructure]), global_offset=(0x32f8-0x3310), parent_offset=(0x2a0-0x2b8), data_hex=0e00000002000d00b0104000000000000000000000000000]\n",
      "│   ├────b2253507cc324d14a3080345593abad9: [caption=(ElfSymbol), attributes=(Data, AttributesType[ElfSymbolStructure]), global_offset=(0x3310-0x3328), parent_offset=(0x2b8-0x2d0), data_hex=2100000002000d00f0104000000000000000000000000000]\n",
      "│   ├────d47c18ff2f364253ac700e0345e18bc3: [caption=(ElfSymbol), attributes=(Data, AttributesType[ElfSymbolStructure]), global_offset=(0x3328-0x3340), parent_offset=(0x2d0-0x2e8), data_hex=370000000100180030404000000000000100000000000000]\n",
      "│   ├────0d9bd08ae41d4c9aa66917b3f5448c69: [caption=(ElfSymbol), attributes=(Data, AttributesType[ElfSymbolStructure]), global_offset=(0x3340-0x3358), parent_offset=(0x2e8-0x300), data_hex=4300000001001300183e4000000000000000000000000000]\n",
      "│   ├────23a22c769556448da6519900d53509da: [caption=(ElfSymbol), attributes=(Data, AttributesType[ElfSymbolStructure]), global_offset=(0x3358-0x3370), parent_offset=(0x300-0x318), data_hex=6a00000002000d0020114000000000000000000000000000]\n",
      "│   ├────794fc4b7cfbb46509764f29920aefe19: [caption=(ElfSymbol), attributes=(Data, AttributesType[ElfSymbolStructure]), global_offset=(0x3370-0x3388), parent_offset=(0x318-0x330), data_hex=7600000001001200103e4000000000000000000000000000]\n",
      "│   ├────344464d733cc4f2f999a85954d5bb9d2: [caption=(ElfSymbol), attributes=(Data, AttributesType[ElfSymbolStructure]), global_offset=(0x3388-0x33a0), parent_offset=(0x330-0x348), data_hex=950000000400f1ff00000000000000000000000000000000]\n",
      "│   ├────71f73ff2fb434294a6d2c6aa0f911e2a: [caption=(ElfSymbol), attributes=(Data, AttributesType[ElfSymbolStructure]), global_offset=(0x33a0-0x33b8), parent_offset=(0x348-0x360), data_hex=010000000400f1ff00000000000000000000000000000000]\n",
      "│   ├────eb5efda26ef84017bc612ef14587ad38: [caption=(ElfSymbol), attributes=(Data, AttributesType[ElfSymbolStructure]), global_offset=(0x33b8-0x33d0), parent_offset=(0x360-0x378), data_hex=a3000000010011004c214000000000000000000000000000]\n",
      "│   ├────a54dcf89bf2648d9bae34a6afc29f537: [caption=(ElfSymbol), attributes=(Data, AttributesType[ElfSymbolStructure]), global_offset=(0x33d0-0x33e8), parent_offset=(0x378-0x390), data_hex=000000000400f1ff00000000000000000000000000000000]\n",
      "│   ├────fd2c96e5c82840d48e8ad9d2ac00fe8c: [caption=(ElfSymbol), attributes=(Data, AttributesType[ElfSymbolStructure]), global_offset=(0x33e8-0x3400), parent_offset=(0x390-0x3a8), data_hex=b100000000001200183e4000000000000000000000000000]\n",
      "│   ├────804264991b7a45caa33c367d698893b9: [caption=(ElfSymbol), attributes=(Data, AttributesType[ElfSymbolStructure]), global_offset=(0x3400-0x3418), parent_offset=(0x3a8-0x3c0), data_hex=c200000001001400203e4000000000000000000000000000]\n",
      "│   ├────f8c69edfad8e4eacbdb67acf98359e85: [caption=(ElfSymbol), attributes=(Data, AttributesType[ElfSymbolStructure]), global_offset=(0x3418-0x3430), parent_offset=(0x3c0-0x3d8), data_hex=cb00000000001200103e4000000000000000000000000000]\n",
      "│   ├────acd517a8db4c4353a996164095732c1e: [caption=(ElfSymbol), attributes=(Data, AttributesType[ElfSymbolStructure]), global_offset=(0x3430-0x3448), parent_offset=(0x3d8-0x3f0), data_hex=de0000000000100014204000000000000000000000000000]\n",
      "│   ├────5a06c5d52da64ab2abb3607e7c687247: [caption=(ElfSymbol), attributes=(Data, AttributesType[ElfSymbolStructure]), global_offset=(0x3448-0x3460), parent_offset=(0x3f0-0x408), data_hex=f10000000100160000404000000000000000000000000000]\n",
      "│   ├────7130d0386d01459f8bcbf59e53f5855f: [caption=(ElfSymbol), attributes=(Data, AttributesType[ElfSymbolStructure]), global_offset=(0x3460-0x3478), parent_offset=(0x408-0x420), data_hex=0701000012000d00a0114000000000000100000000000000]\n",
      "│   ├────156b9bc2b9e34e12a606da4bebfd978a: [caption=(ElfSymbol), attributes=(Data, AttributesType[ElfSymbolStructure]), global_offset=(0x3478-0x3490), parent_offset=(0x420-0x438), data_hex=4f0100002000170020404000000000000000000000000000]\n",
      "│   ├────f2a348fc941f42f6b53ba1856a4d4d72: [caption=(ElfSymbol), attributes=(Data, AttributesType[ElfSymbolStructure]), global_offset=(0x3490-0x34a8), parent_offset=(0x438-0x450), data_hex=170100001200000000000000000000000000000000000000]\n",
      "│   ├────10eaae4b85eb4b53aad265a8901b91c8: [caption=(ElfSymbol), attributes=(Data, AttributesType[ElfSymbolStructure]), global_offset=(0x34a8-0x34c0), parent_offset=(0x450-0x468), data_hex=280100001000170030404000000000000000000000000000]\n",
      "│   ├────dd21956da645496e816036cbeb0ce48c: [caption=(ElfSymbol), attributes=(Data, AttributesType[ElfSymbolStructure]), global_offset=(0x34c0-0x34d8), parent_offset=(0x468-0x480), data_hex=1101000012020e00a4114000000000000000000000000000]\n",
      "│   ├────6821c90624374a0caf68fb506e689f01: [caption=(ElfSymbol), attributes=(Data, AttributesType[ElfSymbolStructure]), global_offset=(0x34d8-0x34f0), parent_offset=(0x480-0x498), data_hex=2f0100001200000000000000000000000000000000000000]\n",
      "│   ├────517ce3c57958456bbfadb5c57958dc46: [caption=(ElfSymbol), attributes=(Data, AttributesType[ElfSymbolStructure]), global_offset=(0x34f0-0x3508), parent_offset=(0x498-0x4b0), data_hex=4d0100001000170020404000000000000000000000000000]\n",
      "│   ├────6a3dcfdce1d342608ccb7f9eacde3362: [caption=(ElfSymbol), attributes=(Data, AttributesType[ElfSymbolStructure]), global_offset=(0x3508-0x3520), parent_offset=(0x4b0-0x4c8), data_hex=5a0100002000000000000000000000000000000000000000]\n",
      "│   ├────f09b418dc51a483892a6042b1ed87634: [caption=(ElfSymbol), attributes=(Data, AttributesType[ElfSymbolStructure]), global_offset=(0x3520-0x3538), parent_offset=(0x4c8-0x4e0), data_hex=690100001102170028404000000000000000000000000000]\n",
      "│   ├────6d57c22dbce2493f9fdd9218e255479b: [caption=(ElfSymbol), attributes=(Data, AttributesType[ElfSymbolStructure]), global_offset=(0x3538-0x3550), parent_offset=(0x4e0-0x4f8), data_hex=7601000011000f0000204000000000000400000000000000]\n",
      "│   ├────5c341f74bc2d43f5aaab7076caca2c03: [caption=(ElfSymbol), attributes=(Data, AttributesType[ElfSymbolStructure]), global_offset=(0x3550-0x3568), parent_offset=(0x4f8-0x510), data_hex=8501000012000d0040114000000000005d00000000000000]\n",
      "│   ├────96284ebc1c2e4f5b83200bcc750a4fef: [caption=(ElfSymbol), attributes=(Data, AttributesType[ElfSymbolStructure]), global_offset=(0x3568-0x3580), parent_offset=(0x510-0x528), data_hex=bd0000001000180038404000000000000000000000000000]\n",
      "│   ├────14151cbe5a144134a69a078622ce8e2c: [caption=(ElfSymbol), attributes=(Data, AttributesType[ElfSymbolStructure]), global_offset=(0x3580-0x3598), parent_offset=(0x528-0x540), data_hex=9501000012020d0070104000000000000100000000000000]\n",
      "│   ├────5f547cfdff45493380ca584b27bf44c3: [caption=(ElfSymbol), attributes=(Data, AttributesType[ElfSymbolStructure]), global_offset=(0x3598-0x35b0), parent_offset=(0x540-0x558), data_hex=5301000012000d0040104000000000002b00000000000000]\n",
      "│   ├────d2b8b0cd7c5a4ad89310951553d2d3c2: [caption=(ElfSymbol), attributes=(Data, AttributesType[ElfSymbolStructure]), global_offset=(0x35b0-0x35c8), parent_offset=(0x558-0x570), data_hex=ad0100001000180030404000000000000000000000000000]\n",
      "│   ├────65dbe06d408b4a5181ff6c26dced6a8d: [caption=(ElfSymbol), attributes=(Data, AttributesType[ElfSymbolStructure]), global_offset=(0x35c8-0x35e0), parent_offset=(0x570-0x588), data_hex=b901000012000d0022114000000000001700000000000000]\n",
      "│   ├────5bafab18e55446e3bac55140c5f1da80: [caption=(ElfSymbol), attributes=(Data, AttributesType[ElfSymbolStructure]), global_offset=(0x35e0-0x35f8), parent_offset=(0x588-0x5a0), data_hex=be0100001102170030404000000000000000000000000000]\n",
      "│   └────99c652c5c468492ca145b951a87f899c: [caption=(ElfSymbol), attributes=(Data, AttributesType[ElfSymbolStructure]), global_offset=(0x35f8-0x3610), parent_offset=(0x5a0-0x5b8), data_hex=8f01000012020b0000104000000000000000000000000000]\n",
      "├────fbadd51624154144830b32a2a57828d2: [caption=(ElfSectionHeader), attributes=(Data, AttributesType[ElfSectionStructure], AttributesType[ElfSectionHeader]), global_offset=(0x3fa0-0x3fe0), parent_offset=(0x3fa0-0x3fe0), data_hex=0900000003000000000000000000000000000000000000001036000000000000ca01000000000000000000000000000001000000000000000000000000000000]\n",
      "├────e801f3a5dbb34975a79c8d662fd8e14c: [caption=(ElfSection, ElfStringSection), attributes=(Data, AttributesType[ElfSectionStructure]), global_offset=(0x3610-0x37da), parent_offset=(0x3610-0x37da), data_hash=800e56e9]\n",
      "├────7c0d17f39c8f4ae5b43e050b80ffea4b: [caption=(ElfSectionHeader), attributes=(Data, AttributesType[ElfSectionStructure], AttributesType[ElfSectionHeader]), global_offset=(0x3fe0-0x4020), parent_offset=(0x3fe0-0x4020), data_hex=110000000300000000000000000000000000000000000000da370000000000000301000000000000000000000000000001000000000000000000000000000000]\n",
      "├────bce8fdcd97d0493885df4bf2257cb603: [caption=(ElfSection, ElfSectionNameStringSection), attributes=(Data, AttributesType[ElfSectionStructure]), global_offset=(0x37da-0x38dd), parent_offset=(0x37da-0x38dd), data_hash=6db41dea]\n",
      "├────d2a4b9cd389349a7a3b6fadc842dc4d9: [caption=(ElfProgramHeader: PHDR, R), attributes=(Data, AttributesType[ElfSegmentStructure], AttributesType[ElfProgramHeader]), global_offset=(0x40-0x78), parent_offset=(0x40-0x78), data_hex=0600000004000000400000000000000040004000000000004000400000000000680200000000000068020000000000000800000000000000]\n",
      "├────6774abc4d43e4341ba0229176a6f6cb0: [caption=(ElfProgramHeader: INTERP, R), attributes=(Data, AttributesType[ElfSegmentStructure], AttributesType[ElfProgramHeader]), global_offset=(0x78-0xb0), parent_offset=(0x78-0xb0), data_hex=0300000004000000a802000000000000a802400000000000a8024000000000001c000000000000001c000000000000000100000000000000]\n",
      "├────4016bcc472e04feaab48b887131db1d4: [caption=(ElfProgramHeader: LOAD, R), attributes=(Data, AttributesType[ElfSegmentStructure], AttributesType[ElfProgramHeader]), global_offset=(0xb0-0xe8), parent_offset=(0xb0-0xe8), data_hex=0100000004000000000000000000000000004000000000000000400000000000380400000000000038040000000000000010000000000000]\n",
      "├────2dbf367e00344888ae2db96d5e2eddd0: [caption=(ElfProgramHeader: LOAD, RX), attributes=(Data, AttributesType[ElfSegmentStructure], AttributesType[ElfProgramHeader]), global_offset=(0xe8-0x120), parent_offset=(0xe8-0x120), data_hex=0100000005000000001000000000000000104000000000000010400000000000ad01000000000000ad010000000000000010000000000000]\n",
      "├────935e9bf7dc764b7fa7f7eb36fa3cbd52: [caption=(ElfProgramHeader: LOAD, R), attributes=(Data, AttributesType[ElfSegmentStructure], AttributesType[ElfProgramHeader]), global_offset=(0x120-0x158), parent_offset=(0x120-0x158), data_hex=0100000004000000002000000000000000204000000000000020400000000000500100000000000050010000000000000010000000000000]\n",
      "├────76ded1a82fb646a692f381d3e66e9ae4: [caption=(ElfProgramHeader: LOAD, RW), attributes=(Data, AttributesType[ElfSegmentStructure], AttributesType[ElfProgramHeader]), global_offset=(0x158-0x190), parent_offset=(0x158-0x190), data_hex=0100000006000000102e000000000000103e400000000000103e400000000000200200000000000028020000000000000010000000000000]\n",
      "├────76f6effa81564daa9f491783e826075e: [caption=(ElfProgramHeader: DYNAMIC, RW), attributes=(Data, AttributesType[ElfSegmentStructure], AttributesType[ElfProgramHeader]), global_offset=(0x190-0x1c8), parent_offset=(0x190-0x1c8), data_hex=0200000006000000202e000000000000203e400000000000203e400000000000d001000000000000d0010000000000000800000000000000]\n",
      "├────eb69f5aed9244eedaf92057e28880ba5: [caption=(ElfProgramHeader: NOTE, R), attributes=(Data, AttributesType[ElfSegmentStructure], AttributesType[ElfProgramHeader]), global_offset=(0x1c8-0x200), parent_offset=(0x1c8-0x200), data_hex=0400000004000000c402000000000000c402400000000000c402400000000000440000000000000044000000000000000400000000000000]\n",
      "├────70c7363eb6de481c9be32353d1032c5a: [caption=(ElfProgramHeader: GNU_EH_FRAME, R), attributes=(Data, AttributesType[ElfSegmentStructure], AttributesType[ElfProgramHeader]), global_offset=(0x200-0x238), parent_offset=(0x200-0x238), data_hex=50e57464040000001420000000000000142040000000000014204000000000003c000000000000003c000000000000000400000000000000]\n",
      "├────0978e1b79bf542859e5b0452c7bd5a7e: [caption=(ElfProgramHeader: GNU_STACK, RW), attributes=(Data, AttributesType[ElfSegmentStructure], AttributesType[ElfProgramHeader]), global_offset=(0x238-0x270), parent_offset=(0x238-0x270), data_hex=51e5746406000000000000000000000000000000000000000000000000000000000000000000000000000000000000001000000000000000]\n",
      "└────85d9284be41443f797d0800d5d721315: [caption=(ElfProgramHeader: GNU_RELRO, R), attributes=(Data, AttributesType[ElfSegmentStructure], AttributesType[ElfProgramHeader]), global_offset=(0x270-0x2a8), parent_offset=(0x270-0x2a8), data_hex=52e5746404000000102e000000000000103e400000000000103e400000000000f001000000000000f0010000000000000100000000000000]\n",
      "\n"
     ]
    }
   ],
   "source": [
    "info = await root_resource.summarize_tree()\n",
    "print(info)"
   ]
  },
  {
   "cell_type": "markdown",
   "id": "2a51c552",
   "metadata": {},
   "source": [
    "This tree has a lot more information than before. Which kinds of children were created? Let's have a look at their *tags*, which essentially describe the possible types that OFRAK knows for a resource."
   ]
  },
  {
   "cell_type": "code",
   "execution_count": 6,
   "id": "99859d11",
   "metadata": {},
   "outputs": [
    {
     "name": "stdout",
     "output_type": "stream",
     "text": [
      "Addressable\n",
      "CodeRegion\n",
      "ElfBasicHeader\n",
      "ElfDynSymbolSection\n",
      "ElfDynamicEntry\n",
      "ElfDynamicSection\n",
      "ElfFiniArraySection\n",
      "ElfHeader\n",
      "ElfInitArraySection\n",
      "ElfPointerArraySection\n",
      "ElfProgramHeader\n",
      "ElfRelaEntry\n",
      "ElfRelaSection\n",
      "ElfSection\n",
      "ElfSectionHeader\n",
      "ElfSectionNameStringSection\n",
      "ElfSectionStructure\n",
      "ElfSegmentStructure\n",
      "ElfStringSection\n",
      "ElfSymbol\n",
      "ElfSymbolSection\n",
      "ElfSymbolStructure\n",
      "ElfVirtualAddress\n",
      "MemoryRegion\n",
      "NamedProgramSection\n",
      "ProgramSection\n"
     ]
    }
   ],
   "source": [
    "async def get_descendants_tags(resource):\n",
    "    \"\"\"Return an alphabetically sorted list of all the tags of the descendants of `resource`.\"\"\"\n",
    "    all_tags = set()\n",
    "    for child_resource in await resource.get_descendants():\n",
    "        all_tags |= set(child_resource.get_tags())\n",
    "    return sorted(all_tags, key=str)\n",
    "\n",
    "\n",
    "for tag in await get_descendants_tags(root_resource):\n",
    "    print(tag)"
   ]
  },
  {
   "cell_type": "markdown",
   "id": "12c6fa95",
   "metadata": {},
   "source": [
    "OFRAK has analyzed the binary down to basically its ELF sections, headers and symbols. No instructions? That's because we haven't told OFRAK which analysis backend to use. Available backends are Ghidra and BinaryNinja; we'll introduce them later, when we need them."
   ]
  },
  {
   "cell_type": "markdown",
   "id": "c477afd5",
   "metadata": {},
   "source": [
    "How would we get all the resources in the tree with a `CodeRegion` tag? We can use one of OFRAK's filtering capabilities, `ResourceFilter.with_tags`:"
   ]
  },
  {
   "cell_type": "code",
   "execution_count": 7,
   "id": "f1dd1f92",
   "metadata": {
    "tags": [
     "nbval-ignore-output"
    ]
   },
   "outputs": [
    {
     "data": {
      "text/plain": [
       "[Resource(resource_id=59f70c17c0a742ec90206013dea49773, tag=[ElfSection,NamedProgramSection,CodeRegion,ElfSectionStructure,ProgramSection,Addressable,MemoryRegion], data=59f70c17c0a742ec90206013dea49773),\n",
       " Resource(resource_id=72ed80a0f46c4b5ab2cddb3c5eea86b0, tag=[ElfSection,NamedProgramSection,CodeRegion,ElfSectionStructure,ProgramSection,Addressable,MemoryRegion], data=72ed80a0f46c4b5ab2cddb3c5eea86b0),\n",
       " Resource(resource_id=64983f9ba7204ed494b99944ab3d0ff3, tag=[ElfSection,NamedProgramSection,CodeRegion,ElfSectionStructure,ProgramSection,Addressable,MemoryRegion], data=64983f9ba7204ed494b99944ab3d0ff3),\n",
       " Resource(resource_id=c0753d43a8e84b8d85dc13fd217f7a88, tag=[ElfSection,NamedProgramSection,CodeRegion,ElfSectionStructure,ProgramSection,Addressable,MemoryRegion], data=c0753d43a8e84b8d85dc13fd217f7a88)]"
      ]
     },
     "execution_count": 7,
     "metadata": {},
     "output_type": "execute_result"
    }
   ],
   "source": [
    "from ofrak.core import CodeRegion\n",
    "from ofrak import ResourceFilter\n",
    "\n",
    "list(await root_resource.get_descendants(r_filter=ResourceFilter.with_tags(CodeRegion)))"
   ]
  },
  {
   "cell_type": "markdown",
   "id": "086319a6",
   "metadata": {},
   "source": [
    "[Next page](3_binary_format_modification.ipynb)"
   ]
  }
 ],
 "metadata": {
  "kernelspec": {
   "display_name": "Python 3 (ipykernel)",
   "language": "python",
   "name": "python3"
  },
  "language_info": {
   "codemirror_mode": {
    "name": "ipython",
    "version": 3
   },
   "file_extension": ".py",
   "mimetype": "text/x-python",
   "name": "python",
   "nbconvert_exporter": "python",
   "pygments_lexer": "ipython3",
   "version": "3.7.13"
  },
  "pycharm": {
   "stem_cell": {
    "cell_type": "raw",
    "metadata": {
     "collapsed": false
    },
    "source": []
   }
  }
 },
 "nbformat": 4,
 "nbformat_minor": 5
}
